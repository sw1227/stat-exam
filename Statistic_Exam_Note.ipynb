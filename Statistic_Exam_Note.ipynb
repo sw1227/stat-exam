{
 "cells": [
  {
   "cell_type": "markdown",
   "metadata": {},
   "source": [
    "統計検定ノート\n",
    "=====\n",
    "[統計検定準1級範囲表](http://www.toukei-kentei.jp/wp-content/uploads/grade1semi_hani_170727.pdf)\n",
    "\n",
    "---"
   ]
  },
  {
   "cell_type": "markdown",
   "metadata": {},
   "source": [
    "# 1. 確率と確率変数"
   ]
  },
  {
   "cell_type": "markdown",
   "metadata": {},
   "source": [
    "## 1.1. 事象と確率\n",
    "確率の計算，統計的独立，条件付き確率，ベイズの定理，包除原理"
   ]
  },
  {
   "cell_type": "markdown",
   "metadata": {},
   "source": []
  },
  {
   "cell_type": "markdown",
   "metadata": {},
   "source": [
    "## 1.2. 確率分布と母関数\n",
    "確率関数，確率密度関数，同時確率関数，同時確率密度関数，周辺確\n",
    "率関数，周辺確率密度関数，条件つき確率関数，条件つき確率密度関\n",
    "数，累積分布関数，生存関数\n",
    "\n",
    "モーメント母関数（積率母関数），確率母関数"
   ]
  },
  {
   "cell_type": "markdown",
   "metadata": {},
   "source": []
  },
  {
   "cell_type": "markdown",
   "metadata": {},
   "source": [
    "## 1.3. 分布の特性値\n",
    "モーメント，歪度，尖度，変動係数，相関係数，偏相関係数，分位点\n",
    "関数，条件つき期待値，条件つき分散"
   ]
  },
  {
   "cell_type": "markdown",
   "metadata": {},
   "source": []
  },
  {
   "cell_type": "markdown",
   "metadata": {},
   "source": [
    "## 1.4. 変数変換\n",
    "変数変換，確率変数の線形結合の分布"
   ]
  },
  {
   "cell_type": "markdown",
   "metadata": {},
   "source": []
  },
  {
   "cell_type": "markdown",
   "metadata": {},
   "source": [
    "## 1.5. 極限定理, 漸近理論\n",
    "大数の弱法則，少数法則，中心極限定理，極値分布\n",
    "\n",
    "二項分布の正規近似，ポアソン分布の正規近似，連続修正，デルタ法"
   ]
  },
  {
   "cell_type": "markdown",
   "metadata": {},
   "source": []
  },
  {
   "cell_type": "markdown",
   "metadata": {},
   "source": [
    "# 2. 種々の確率分布"
   ]
  },
  {
   "cell_type": "markdown",
   "metadata": {},
   "source": [
    "## 2.1. 離散型分布\n",
    "離散一様分布，ベルヌーイ分布，二項分布，超幾何分布，ポアソン分\n",
    "布，幾何分布，負の二項分布，多項分布"
   ]
  },
  {
   "cell_type": "markdown",
   "metadata": {},
   "source": []
  },
  {
   "cell_type": "markdown",
   "metadata": {},
   "source": [
    "## 2.2. 連続型分布\n",
    "連続一様分布，正規分布，指数分布，ガンマ分布，ベータ分布，コー\n",
    "シー分布，対数正規分布，多変量正規分布"
   ]
  },
  {
   "cell_type": "markdown",
   "metadata": {},
   "source": []
  },
  {
   "cell_type": "markdown",
   "metadata": {},
   "source": [
    "## 2.3. 標本分布\n",
    "t 分布，カイ二乗分布，F 分布（非心分布を含む）\n",
    "\n",
    "正規母集団からの標本から得られる統計量（標本平均・不偏標本分散）がどのような分布に従っているかを知りたい。"
   ]
  },
  {
   "cell_type": "markdown",
   "metadata": {},
   "source": [
    "#### 例題\n",
    "独立に$N(\\mu, \\sigma^2)$に従う正規母集団からの標本$X_1, ..., X_n$について、\n",
    "\n",
    "**Q1. 標本平均$\\bar{X}$はどのような分布に従うか **\n",
    "\n",
    "**A1. ** \n",
    "以下の正規分布に従う。\n",
    "$$\n",
    "\\bar{X} \\sim N(\\mu, \\frac{\\sigma^2}{n})\n",
    "$$\n",
    "\n",
    "\n",
    "** Q2. 不偏標本分散$s^2 (=V)$はどのような分布に従うか **\n",
    "\n",
    "** A2. **\n",
    "以下のように、カイ二乗分布と関連がある。\n",
    "$$\n",
    "\\chi^2 \\equiv \\frac{(n-1)V}{\\sigma^2} \\sim \\chi^2(n-1)\n",
    "$$\n",
    "\n",
    "** Q3. 母分散が未知の場合、標本平均$\\bar{X}$をどのように評価するか **\n",
    "\n",
    "** A3. **\n",
    "母分散$\\sigma^2$を（不偏）標本分散$s^2$で置き換えた統計量\n",
    "$$\n",
    "t = \\frac{\\bar{X} - \\mu}{\\sqrt{s^2 / n}}\n",
    "$$\n",
    "によって評価する。\n",
    "\n",
    "\n",
    "** Q4. $\\chi^2$分布・$t$分布・$F$分布・正規分布の関係について述べよ **\n",
    "\n",
    "** A4. **\n",
    "- 独立な標準正規分布に従う$k$個の確率変数の二乗和は、自由度$k$の$\\chi^2$分布に従う\n",
    "- 標準正規分布に従う$Z$・自由度$k$の$\\chi^2$分布に従う$Y$について、$Z, Y$が独立なとき、$t = \\frac{Z}{\\sqrt{Y/k}}$は自由度$k$の$t$分布に従う\n",
    "- 独立に自由度$k_1, k_2$のカイ二乗分布に従う確率変数$U \\sim \\chi^2(k_1), V \\sim \\chi^2(k_2)$について、それぞれを自由度で割ったもののをフィッシャーの分散比として\n",
    "$$\n",
    "F = \\frac{U/k_1}{V/k_2}\n",
    "$$\n",
    "と定義すると、$F$が従う確率分布を自由度$(k_1, k_2)$の$F$分布と呼び、$F(k_1, k_2)$（分子、分母）と表す。\n",
    "\n",
    "** Q5. 標本平均の標準誤差（standard error）とは何か **\n",
    "\n",
    "** A5. **\n",
    "$\\bar{X}$の標準偏差$s / \\sqrt{n}$のこと。$\\sigma^2$でなく$s^2$によって計算しているため、これは統計量となっている。"
   ]
  },
  {
   "cell_type": "markdown",
   "metadata": {},
   "source": [
    "### 2.3.1. $\\chi^2$分布\n",
    "#### 定義\n",
    "$Y_1 , ... , Y_p$が独立に標準正規分布$N(0, 1)$に従っているとするとき、\n",
    "$$\n",
    "X = Y_1^2 + ... + Y_p^2\n",
    "$$\n",
    "が従う分布を自由度$p$の$\\chi^2$分布(chi-square distribution)といい、$\\chi^2(p)$と表す。\n",
    "\n",
    "#### 一般の正規分布の場合\n",
    "$X_1, ..., X_n$が正規母集団からの標本で、それぞれ$N(\\mu, \\sigma^2)$に従うとき、**（不偏）標本分散$V$が従う分布を知りたい**とする。\n",
    "定義より\n",
    "$$\n",
    "V = \\frac{1}{n-1} \\{ (X_1-\\bar{X})^2 + ... +  (X_n-\\bar{X})^2 \\}\n",
    "$$\n",
    "であるから、\n",
    "$$\n",
    "V = \\frac{\\sigma^2}{n-1} \\{ (\\frac{X_1-\\bar{X}}{\\sigma})^2 + ... + (\\frac{X_n-\\bar{X}}{\\sigma})^2 \\}\n",
    "$$\n",
    "すなわち\n",
    "$$\n",
    "\\frac{(n-1)V}{\\sigma^2} =  \\bigl( \\frac{X_1-\\bar{X}}{\\sigma} \\bigr)^2 + ... + \\bigl( \\frac{X_n-\\bar{X}}{\\sigma} \\bigr)^2\n",
    "$$\n",
    "が成り立つ。\n",
    "\n",
    "ここで標本$X_1, ..., X_n$を標準化して二乗和をとった\n",
    "$$\n",
    "\\bigl( \\frac{X_1-\\mu}{\\sigma} \\bigr)^2 + ... + \\bigl( \\frac{X_n-\\mu}{\\sigma} \\bigr)^2\n",
    "$$\n",
    "は定義より自由度$n$の$\\chi^2(n)$に従うが、$\\mu$が$\\bar{X}$に置き換えられていることにより\n",
    "$$\n",
    "(X_1-\\bar{X}) + ... + (X_n-\\bar{X}) = 0\n",
    "$$\n",
    "という制約があるため、自由度が$n$ではなく$n-1$に減って\n",
    "$$\n",
    "\\chi^2 \\equiv \\frac{(n-1)V}{\\sigma^2} \\sim \\chi^2(n-1)\n",
    "$$\n",
    "が成り立つ。これがカイ二乗統計量である。\n",
    "\n",
    "直感的に説明すると、真の$\\mu$ではなく$\\bar{X}$のまわりで考えているため、自由度$n$から少し小さくなるよう補正する感じ。\n",
    "\n",
    "（自由度$n$のカイ二乗分布の平均は$n$, 分散は$2n$）\n",
    "\n",
    "#### 参考: 標本平均の分布\n",
    "標本分散に関しては上述の通り。標本平均$\\bar{X}$に関しては、定義より\n",
    "$$\n",
    "\\bar{X} = \\frac{1}{n} (X_1 + ... + X_n)\n",
    "$$\n",
    "であり、$X_i \\sim N(\\mu, \\sigma^2)$ および分散の性質 $V[X+Y] = V[X] + V[Y], V[aX] = a^2 V[X]$より\n",
    "$$\n",
    "\\bar{X} \\sim N(\\mu, \\frac{\\sigma^2}{n})\n",
    "$$\n",
    "\n",
    "従って、標準化すると\n",
    "$$\n",
    "\\frac{\\bar{X} - \\mu}{\\frac{\\sigma}{\\sqrt{n}}} = \\frac{\\sqrt{n}\\:(\\bar{X} - \\mu)}{\\sigma} \\sim N(0, 1)\n",
    "$$\n",
    "となる。ただし、これは母分散$\\sigma^2$が既知である場合にしか評価できない。そこで以下の$t$分布が必要になる。"
   ]
  },
  {
   "cell_type": "markdown",
   "metadata": {},
   "source": [
    "### 2.3.2. $t$分布\n",
    "**母分散がわからない時、標本平均$\\bar{X}$が従う分布を知りたい。**\n",
    "\n",
    "前述のように、独立に$N(\\mu, \\sigma^2)$に従う正規母集団からの標本$X_1, ..., X_n$について、標本平均$\\bar{X}$は$\\bar{X} \\sim N(\\mu, \\frac{\\sigma^2}{n})$と正規分布に従い、標準化した$\\frac{\\bar{X} - \\mu}{\\sqrt{\\sigma^2 / n}}$は標準正規分布$N(0, 1)$に従う。\n",
    "\n",
    "ただし、母分散$\\sigma^2$が未知の場合これは計算できない（統計量でない）。そこで、**母分散$\\sigma^2$を（不偏）標本分散$s^2$で置き換えた統計量を考え、これをスチューデントの$t$ 統計量（Student's t-statistic）と呼ぶ。** \n",
    "$$\n",
    "t = \\frac{\\bar{X} - \\mu}{\\sqrt{s^2 / n}}\n",
    "$$\n",
    " $t$ 統計量を標準化された標本平均（母分散を不偏標本分散で置き換える前の）で表すと、\n",
    " $$\n",
    "t = \\frac{\\bar{X} - \\mu}{\\sqrt{s^2 / n}}　= \\bigl( \\frac{\\bar{X} - \\mu}{\\sqrt{\\sigma^2 / n}} \\bigr) \\: / \\: \\sqrt{\\frac{s^2}{\\sigma^2}}\n",
    "$$\n",
    "分子は標準正規分布$N(0, 1)$に従い、分母は$s^2 = \\frac{\\sigma^2}{n-1} \\{ (\\frac{X_1-\\bar{X}}{\\sigma})^2 + ... + (\\frac{X_n-\\bar{X}}{\\sigma})^2 \\}$より「自由度$n-1$のカイ二乗分布に従う量を自由度$n-1$で割ったもの」である。\n",
    "\n",
    "したがって、**$Z \\sim N(0, 1), Y \\sim \\chi^2(k)$として\n",
    "$$t = \\frac{Z}{\\sqrt{Y/k}}$$\n",
    "が従う分布を自由度$k$の$t$分布（スチューデントの$t$分布） $t(k)$と呼ぶ**ことにすれば、**スチューデントの$t$統計量は自由度$n-1$の$t$分布$t(n-1)$に従う**ことになる。\n",
    "\n",
    "また、$\\bar{X}$の標準偏差$s / \\sqrt{n}$ を、**標本平均の標準誤差（standard erorr）**という。"
   ]
  },
  {
   "cell_type": "markdown",
   "metadata": {},
   "source": [
    "### 2.3.3. $F$分布\n",
    "#### 定義\n",
    "独立に自由度$k_1, k_2$のカイ二乗分布に従う確率変数$U \\sim \\chi^2(k_1), V \\sim \\chi^2(k_2)$について、それぞれを**自由度で割ったもののをフィッシャーの分散比**として\n",
    "$$\n",
    "F = \\frac{U/k_1}{V/k_2}\n",
    "$$\n",
    "と定義すると、$F$が従う確率分布を自由度$(k_1, k_2)$の$F$分布と呼び、$F(k_1, k_2)$（分子、分母）と表す。\n",
    "\n",
    "カイ二乗分布の期待値は自由度に等しいので、分母と分子の期待値がそれぞれ1になるように調整している感じ。\n",
    "\n",
    "#### 標本分散の比の標本分布\n",
    "**二つの母集団分布の標本分散$s_1^2, s_2^2$が等しいか否かを知りたい**（それによって標本平均の差の分布を求める方法が異なるため）。\n",
    "\n",
    "先述のように、\n",
    "\n",
    "- $\\frac{(m-1)s_1^2}{\\sigma_1^2} \\sim \\chi^2(m-1)$, \n",
    "- $\\frac{(n-1)s_2^2}{\\sigma_2^2} \\sim \\chi^2(n-1)$\n",
    "\n",
    "が成り立つため、$F$分布の定義より、これらを自由度で割ったものの比について\n",
    "$$\n",
    "\\frac{\\sigma_2^2}{\\sigma_1^2} \\cdot \\frac{s_1^2}{s_2^2} \\sim F(m-1, n-1)\n",
    "$$\n",
    "仮に母分散が等しければこれは標本の分散比となり、\n",
    "$$\n",
    "F = \\frac{s_1^2}{s_2^2}\n",
    "$$\n",
    "となる。"
   ]
  },
  {
   "cell_type": "markdown",
   "metadata": {},
   "source": [
    "# 3. 統計的推測（推定）"
   ]
  },
  {
   "cell_type": "markdown",
   "metadata": {},
   "source": [
    "## 3.1. 統計量\n",
    "十分統計量，ネイマンの分解定理，順序統計量"
   ]
  },
  {
   "cell_type": "markdown",
   "metadata": {},
   "source": [
    "### 3.1.2. [十分統計量](https://ja.wikipedia.org/wiki/%E5%8D%81%E5%88%86%E7%B5%B1%E8%A8%88%E9%87%8F)\n",
    "\n"
   ]
  },
  {
   "cell_type": "markdown",
   "metadata": {},
   "source": [
    "## 3.2. 各種推定法\n",
    "最尤法，モーメント法，最小二乗法，線形模型"
   ]
  },
  {
   "cell_type": "markdown",
   "metadata": {},
   "source": [
    "## 3.3. 点推定の性質\n",
    " 不偏性，一致性，十分性，有効性，推定量の相対効率，ガウス・マル\n",
    "コフの定理，クラーメル・ラオの不等式"
   ]
  },
  {
   "cell_type": "markdown",
   "metadata": {},
   "source": []
  },
  {
   "cell_type": "markdown",
   "metadata": {},
   "source": [
    "## 3.4. 漸近的性質\n",
    "フィッシャー情報量，最尤推定量の漸近正規性，デルタ法，ジャック\n",
    "ナイフ法，カルバック・ライブラー情報量"
   ]
  },
  {
   "cell_type": "markdown",
   "metadata": {},
   "source": []
  },
  {
   "cell_type": "markdown",
   "metadata": {},
   "source": [
    "## 3.5. 区間推定\n",
    "信頼係数，信頼区間の構成（母平均，母分散，母比率，2 標本問題），\n",
    "被覆確率，片側信頼限界"
   ]
  },
  {
   "cell_type": "markdown",
   "metadata": {},
   "source": []
  },
  {
   "cell_type": "markdown",
   "metadata": {},
   "source": [
    "# 4. 統計的推測（検定）"
   ]
  },
  {
   "cell_type": "markdown",
   "metadata": {},
   "source": [
    "## 4.1. 検定の基礎\n",
    "仮説，検定統計量，P 値，棄却域，第一種の過誤，第二種の過誤，検出\n",
    "力（検定力），検出力曲線，サンプルサイズの決定，多重比較"
   ]
  },
  {
   "cell_type": "markdown",
   "metadata": {},
   "source": []
  },
  {
   "cell_type": "markdown",
   "metadata": {},
   "source": [
    "## 4.2. 検定法の導出\n",
    "ネイマン・ピアソンの基本定理，尤度比検定，ワルド型検定，スコア\n",
    "検定，正確検定"
   ]
  },
  {
   "cell_type": "markdown",
   "metadata": {},
   "source": []
  },
  {
   "cell_type": "markdown",
   "metadata": {},
   "source": [
    "## 4.3. 正規分布に関する検定\n",
    "母平均，母分散に関する検定，2 標本問題に関する検定，母相関係数に関する検定\n",
    "\n"
   ]
  },
  {
   "cell_type": "markdown",
   "metadata": {},
   "source": [
    "### 4.3.1. 母平均に関する検定\n",
    "正規母集団$N(\\mu,  \\sigma)$の母平均$\\mu$に関する検定を考える。有意水準は以下では$\\alpha$とする。\n",
    "\n",
    "#### 両側検定\n",
    "- 帰無仮説$H_0: \\mu = \\mu_0$\n",
    "- 対立仮説$H_1: \\mu \\neq \\mu_0$\n",
    "標本平均$\\bar{X}$と$ \\mu_0$の差によって検定を行うが、その尺度となる$\\sigma$が既知か未知かによって方法が異なる。\n",
    "\n",
    "<u>(1) 母分散が既知の場合</u>\n",
    "\n",
    "帰無仮説が正しければ、標準化された標本平均\n",
    "$$\n",
    "Z = \\frac{\\bar{X} - \\mu}{\\sqrt{\\sigma^2 / n}}\n",
    "$$\n",
    "は標準正規分布に従うため、標準正規分布表を元に$|Z| > Z_{\\alpha/2}$であれば$H_0$を棄却する。\n",
    "\n",
    "\n",
    "<u>(2) 母分散が未知の場合: **スチューデントの$t$検定** </u>\n",
    "\n",
    "(1)で母分散を標本分散$s^2$で置き換えたスチューデントの$t$統計量\n",
    "$$\n",
    "t = \\frac{\\bar{X} - \\mu}{\\sqrt{s^2 / n}}\n",
    "$$\n",
    "を検定統計量とする。\n",
    "帰無仮説が正しければ$t$は自由度$n-1$の$t$分布$t(n-1)$に従うから、\n",
    "$|t| > t_{\\alpha/2} (n-1)$であれば$H_0$を棄却する。\n",
    "\n",
    "#### 片側検定\n",
    "- 帰無仮説$H_0: \\mu = \\mu_0$\n",
    "- 対立仮説（右片側対立仮説）$H_1: \\mu > \\mu_0$\n",
    "- 対立仮説（左片側対立仮説）$H_1: \\mu < \\mu_0$\n",
    "\n",
    "検定統計量と、帰無仮説を仮定した元での検定統計量の分布は両側検定と同じ。\n",
    "\n",
    "<u>(1) 母分散が既知の場合</u>\n",
    "- 対立仮説（右片側対立仮説）$H_1: \\mu > \\mu_0$の場合: \n",
    "標準正規分布表を元に$Z > Z_{\\alpha}$であれば$H_0$を棄却する。\n",
    "- 対立仮説（左片側対立仮説）$H_1: \\mu < \\mu_0$の場合: \n",
    "標準正規分布表を元に$Z < -Z_{\\alpha}$であれば$H_0$を棄却する。\n",
    "\n",
    "<u>(2) 母分散が未知の場合: **スチューデントの$t$検定** </u>\n",
    "- 対立仮説（右片側対立仮説）$H_1: \\mu > \\mu_0$の場合: \n",
    "$t > t_{\\alpha} (n-1)$であれば$H_0$を棄却する。\n",
    "- 対立仮説（左片側対立仮説）$H_1: \\mu < \\mu_0$の場合: \n",
    "$t < -t_{\\alpha} (n-1)$であれば$H_0$を棄却する。"
   ]
  },
  {
   "cell_type": "markdown",
   "metadata": {},
   "source": [
    "### 4.3.2. 母分散に関する検定: $\\chi^2$検定\n",
    "（不偏）標本分散$s^2$によって検定を行う。\n",
    "- 帰無仮説$H_0: \\sigma^2 = \\sigma_0^2$\n",
    "\n",
    "の元では、検定統計量\n",
    "$$\n",
    "\\chi^2 = (n-1) s^2 / \\sigma^2\n",
    "$$\n",
    "は$\\chi^2(n-1)$に従うことを利用する。検定の有意水準を$\\alpha$とし、自由度$n-1$の$\\chi^2$分布表から\n",
    "\n",
    "- $\\chi^2_{1-\\alpha/2}(n-1)$\n",
    "- $\\chi^2_{1-\\alpha}(n-1)$\n",
    "- $\\chi^2_{\\alpha/2}(n-1)$\n",
    "\n",
    "などを求めておく。\n",
    "\n",
    "####  両側検定\n",
    "- 対立仮説（両側仮説）$H_1: \\sigma^2 \\neq \\sigma_0^2$\n",
    "\n",
    "$\\chi^2_{1-\\alpha/2}(n-1) < \\chi^2 < \\chi^2_{\\alpha/2}(n-1)$の時$H_0$を棄却せず、それ以外は棄却する\n",
    "\n",
    "#### 片側検定\n",
    "- 対立仮説（右片側対立仮説）$H_1: \\sigma^2 > \\sigma_0^2$\n",
    "\n",
    "$\\chi^2 > \\chi^2_{\\alpha}(n-1)$の時$H_0$を棄却し、それ以外は棄却しない\n",
    "\n",
    "- 対立仮説（左片側対立仮説）$H_1: \\sigma^2 < \\sigma_0^2$\n",
    "\n",
    "$\\chi^2 < \\chi^2_{1-\\alpha}(n-1)$の時$H_0$を棄却し、それ以外は棄却しない"
   ]
  },
  {
   "cell_type": "markdown",
   "metadata": {},
   "source": [
    "### 4.3.3. 2標本問題に関する検定\n",
    "以下のように抽出された2標本問題を考える。\n",
    "- 大きさ$m$の標本$X_1, ..., X_m$を正規母集団$N(\\mu_1, \\sigma_1)$から\n",
    "- 大きさ$n$の標本$X_1, ..., X_n$を正規母集団$N(\\mu_2, \\sigma_2)$から\n",
    "\n",
    "#### 母平均の差の検定\n",
    "\n",
    "#### 母分散の比の検定\n"
   ]
  },
  {
   "cell_type": "markdown",
   "metadata": {},
   "source": [
    "## 4.4. 一般の分布に関する検定法\n",
    "二項分布，ポアソン分布など基本的な分布に関する検定，適合度検定"
   ]
  },
  {
   "cell_type": "markdown",
   "metadata": {},
   "source": []
  },
  {
   "cell_type": "markdown",
   "metadata": {},
   "source": [
    "## 4.5. ノンパラメトリック法\n",
    "ウィルコクソン検定，並べ替え検定，符号付き順位検定，クラスカル・\n",
    "ウォリス検定，順位相関係数"
   ]
  },
  {
   "cell_type": "markdown",
   "metadata": {},
   "source": []
  },
  {
   "cell_type": "markdown",
   "metadata": {},
   "source": [
    "# 5. マルコフ連鎖と確率過程の基礎"
   ]
  },
  {
   "cell_type": "markdown",
   "metadata": {},
   "source": [
    "## 5.1. マルコフ連鎖\n",
    "推移確率，既約性，再帰性，定常分布"
   ]
  },
  {
   "cell_type": "markdown",
   "metadata": {},
   "source": []
  },
  {
   "cell_type": "markdown",
   "metadata": {},
   "source": [
    "## 5.2. 確率過程の基礎\n",
    "ランダムウォーク，ポアソン過程，ブラウン運動"
   ]
  },
  {
   "cell_type": "markdown",
   "metadata": {},
   "source": []
  },
  {
   "cell_type": "markdown",
   "metadata": {},
   "source": [
    "# 6. 回帰分析"
   ]
  },
  {
   "cell_type": "markdown",
   "metadata": {},
   "source": [
    "## 6.1. 重回帰分析\n",
    "重回帰モデル，変数選択，残差分析，一般化最小二乗推定，多重共線\n",
    "性，L₁正則化法"
   ]
  },
  {
   "cell_type": "markdown",
   "metadata": {},
   "source": []
  },
  {
   "cell_type": "markdown",
   "metadata": {},
   "source": [
    "## 6.2. 回帰診断法\n",
    "系列相関，DW 比，はずれ値，leverage，Q-Q プロット"
   ]
  },
  {
   "cell_type": "markdown",
   "metadata": {},
   "source": []
  },
  {
   "cell_type": "markdown",
   "metadata": {},
   "source": [
    "## 6.3. 質的回帰\n",
    "ロジスティック回帰，プロビット分析"
   ]
  },
  {
   "cell_type": "markdown",
   "metadata": {},
   "source": []
  },
  {
   "cell_type": "markdown",
   "metadata": {},
   "source": [
    "## 6.4. その他\n",
    "一般化線形モデル，打ち切りのある場合，比例ハザード"
   ]
  },
  {
   "cell_type": "markdown",
   "metadata": {},
   "source": []
  },
  {
   "cell_type": "markdown",
   "metadata": {},
   "source": [
    "# 7. 分散分析と実験計画法\n",
    "一元配置，二元配置，分散分析表，交互作用，ブロック化，乱塊法，\n",
    "一部実施要因計画，直交配列，ブロック計画"
   ]
  },
  {
   "cell_type": "markdown",
   "metadata": {},
   "source": []
  },
  {
   "cell_type": "markdown",
   "metadata": {},
   "source": [
    "# 8. 標本調査法\n",
    "有限母集団，有限修正，各種の標本抽出法"
   ]
  },
  {
   "cell_type": "markdown",
   "metadata": {},
   "source": []
  },
  {
   "cell_type": "markdown",
   "metadata": {},
   "source": [
    "# 9. 多変量解析"
   ]
  },
  {
   "cell_type": "markdown",
   "metadata": {},
   "source": [
    "## 9.1. 主成分分析\n",
    "主成分スコア，主成分負荷量，寄与率，累積寄与率"
   ]
  },
  {
   "cell_type": "markdown",
   "metadata": {},
   "source": []
  },
  {
   "cell_type": "markdown",
   "metadata": {},
   "source": [
    "## 9.2. 判別分析\n",
    "フィッシャー線形判別， 2 次判別，SVM，正準判別"
   ]
  },
  {
   "cell_type": "markdown",
   "metadata": {},
   "source": []
  },
  {
   "cell_type": "markdown",
   "metadata": {},
   "source": [
    "## 9.3. クラスター分析\n",
    "階層型クラスター分析・デンドログラム，k-means 法，距離行列"
   ]
  },
  {
   "cell_type": "markdown",
   "metadata": {},
   "source": []
  },
  {
   "cell_type": "markdown",
   "metadata": {},
   "source": [
    "## 9.4. 共分散構造分析と因子分析\n",
    "パス解析，因果図，潜在変数，因子の回転"
   ]
  },
  {
   "cell_type": "markdown",
   "metadata": {},
   "source": []
  },
  {
   "cell_type": "markdown",
   "metadata": {},
   "source": [
    "## 9.5. その他の多変量解析手法\n",
    "多次元尺度法，正準相関，対応分析，数量化法"
   ]
  },
  {
   "cell_type": "markdown",
   "metadata": {},
   "source": []
  },
  {
   "cell_type": "markdown",
   "metadata": {},
   "source": [
    "# 10. 時系列解析\n",
    "自己相関，偏自己相関，ペリオドグラム，ARIMA モデル，定常性，階差，\n",
    "状態空間モデル"
   ]
  },
  {
   "cell_type": "markdown",
   "metadata": {},
   "source": []
  },
  {
   "cell_type": "markdown",
   "metadata": {},
   "source": [
    "# 11. 分割表"
   ]
  },
  {
   "cell_type": "markdown",
   "metadata": {},
   "source": [
    "## 11.1 分割表の解析\n",
    "オッズ比，連関係数，ファイ係数，残差分析"
   ]
  },
  {
   "cell_type": "markdown",
   "metadata": {},
   "source": []
  },
  {
   "cell_type": "markdown",
   "metadata": {},
   "source": [
    "## 11.2. 分割表のモデル\n",
    "対数線形モデル，階層モデル，条件つき独立性，グラフィカルモデル"
   ]
  },
  {
   "cell_type": "markdown",
   "metadata": {},
   "source": []
  },
  {
   "cell_type": "markdown",
   "metadata": {},
   "source": [
    "# 12. 欠損値\n",
    "欠測メカニズム，EM アルゴリズム"
   ]
  },
  {
   "cell_type": "markdown",
   "metadata": {},
   "source": []
  },
  {
   "cell_type": "markdown",
   "metadata": {},
   "source": [
    "# 13. モデル選択\n",
    "情報量規準，AIC，cross validation"
   ]
  },
  {
   "cell_type": "markdown",
   "metadata": {},
   "source": []
  },
  {
   "cell_type": "markdown",
   "metadata": {},
   "source": [
    "# 14. ベイズ法\n",
    "事前分布，事後分布，階層ベイズモデル，ギブスサンプリング，\n",
    "Metropolis-Hastings 法"
   ]
  },
  {
   "cell_type": "markdown",
   "metadata": {},
   "source": []
  },
  {
   "cell_type": "markdown",
   "metadata": {},
   "source": [
    "# 15. シミュレーション, 計算多用手法\n",
    "ジャックナイフ，ブートストラップ，乱数，棄却法，モンテカルロ法，\n",
    "マルコフ連鎖モンテカルロ(MCMC)法"
   ]
  },
  {
   "cell_type": "markdown",
   "metadata": {},
   "source": []
  },
  {
   "cell_type": "markdown",
   "metadata": {},
   "source": []
  },
  {
   "cell_type": "markdown",
   "metadata": {},
   "source": []
  },
  {
   "cell_type": "markdown",
   "metadata": {},
   "source": []
  },
  {
   "cell_type": "markdown",
   "metadata": {},
   "source": []
  }
 ],
 "metadata": {
  "kernelspec": {
   "display_name": "Python 3",
   "language": "python",
   "name": "python3"
  },
  "language_info": {
   "codemirror_mode": {
    "name": "ipython",
    "version": 3
   },
   "file_extension": ".py",
   "mimetype": "text/x-python",
   "name": "python",
   "nbconvert_exporter": "python",
   "pygments_lexer": "ipython3",
   "version": "3.6.5"
  }
 },
 "nbformat": 4,
 "nbformat_minor": 2
}
