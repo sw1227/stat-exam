{
 "cells": [
  {
   "cell_type": "markdown",
   "metadata": {},
   "source": [
    "統計検定ノート\n",
    "=====\n",
    "[統計検定準1級範囲表](http://www.toukei-kentei.jp/wp-content/uploads/grade1semi_hani_170727.pdf)\n",
    "\n",
    "---"
   ]
  },
  {
   "cell_type": "markdown",
   "metadata": {},
   "source": [
    "# 1. 確率と確率変数"
   ]
  },
  {
   "cell_type": "markdown",
   "metadata": {},
   "source": [
    "## 1.1. 事象と確率\n",
    "確率の計算，統計的独立，条件付き確率，ベイズの定理，包除原理"
   ]
  },
  {
   "cell_type": "markdown",
   "metadata": {},
   "source": []
  },
  {
   "cell_type": "markdown",
   "metadata": {},
   "source": [
    "## 1.2. 確率分布と母関数\n",
    "確率関数，確率密度関数，同時確率関数，同時確率密度関数，周辺確\n",
    "率関数，周辺確率密度関数，条件つき確率関数，条件つき確率密度関\n",
    "数，累積分布関数，生存関数\n",
    "\n",
    "モーメント母関数（積率母関数），確率母関数"
   ]
  },
  {
   "cell_type": "markdown",
   "metadata": {},
   "source": []
  },
  {
   "cell_type": "markdown",
   "metadata": {},
   "source": [
    "## 1.3. 分布の特性値\n",
    "モーメント，歪度，尖度，変動係数，相関係数，偏相関係数，分位点\n",
    "関数，条件つき期待値，条件つき分散"
   ]
  },
  {
   "cell_type": "markdown",
   "metadata": {},
   "source": []
  },
  {
   "cell_type": "markdown",
   "metadata": {},
   "source": [
    "## 1.4. 変数変換\n",
    "変数変換，確率変数の線形結合の分布"
   ]
  },
  {
   "cell_type": "markdown",
   "metadata": {},
   "source": []
  },
  {
   "cell_type": "markdown",
   "metadata": {},
   "source": [
    "## 1.5. 極限定理, 漸近理論\n",
    "大数の弱法則，少数法則，中心極限定理，極値分布\n",
    "\n",
    "二項分布の正規近似，ポアソン分布の正規近似，連続修正，デルタ法"
   ]
  },
  {
   "cell_type": "markdown",
   "metadata": {},
   "source": []
  },
  {
   "cell_type": "markdown",
   "metadata": {},
   "source": [
    "# 2. 種々の確率分布"
   ]
  },
  {
   "cell_type": "markdown",
   "metadata": {},
   "source": [
    "## 2.1. 離散型分布\n",
    "離散一様分布，ベルヌーイ分布，二項分布，超幾何分布，ポアソン分\n",
    "布，幾何分布，負の二項分布，多項分布"
   ]
  },
  {
   "cell_type": "markdown",
   "metadata": {},
   "source": []
  },
  {
   "cell_type": "markdown",
   "metadata": {},
   "source": [
    "## 2.2. 連続型分布\n",
    "連続一様分布，正規分布，指数分布，ガンマ分布，ベータ分布，コー\n",
    "シー分布，対数正規分布，多変量正規分布"
   ]
  },
  {
   "cell_type": "markdown",
   "metadata": {},
   "source": []
  },
  {
   "cell_type": "markdown",
   "metadata": {},
   "source": [
    "## 2.3. 標本分布\n",
    "t 分布，カイ二乗分布，F 分布（非心分布を含む）"
   ]
  },
  {
   "cell_type": "markdown",
   "metadata": {},
   "source": []
  },
  {
   "cell_type": "markdown",
   "metadata": {},
   "source": [
    "# 3. 統計的推測（推定）"
   ]
  },
  {
   "cell_type": "markdown",
   "metadata": {},
   "source": [
    "## 3.1. 統計量\n",
    "十分統計量，ネイマンの分解定理，順序統計量"
   ]
  },
  {
   "cell_type": "markdown",
   "metadata": {},
   "source": [
    "### 3.1.2. [十分統計量](https://ja.wikipedia.org/wiki/%E5%8D%81%E5%88%86%E7%B5%B1%E8%A8%88%E9%87%8F)\n",
    "\n"
   ]
  },
  {
   "cell_type": "markdown",
   "metadata": {},
   "source": [
    "## 3.2. 各種推定法\n",
    "最尤法，モーメント法，最小二乗法，線形模型"
   ]
  },
  {
   "cell_type": "markdown",
   "metadata": {},
   "source": [
    "## 3.3. 点推定の性質\n",
    " 不偏性，一致性，十分性，有効性，推定量の相対効率，ガウス・マル\n",
    "コフの定理，クラーメル・ラオの不等式"
   ]
  },
  {
   "cell_type": "markdown",
   "metadata": {},
   "source": []
  },
  {
   "cell_type": "markdown",
   "metadata": {},
   "source": [
    "## 3.4. 漸近的性質\n",
    "フィッシャー情報量，最尤推定量の漸近正規性，デルタ法，ジャック\n",
    "ナイフ法，カルバック・ライブラー情報量"
   ]
  },
  {
   "cell_type": "markdown",
   "metadata": {},
   "source": []
  },
  {
   "cell_type": "markdown",
   "metadata": {},
   "source": [
    "## 3.5. 区間推定\n",
    "信頼係数，信頼区間の構成（母平均，母分散，母比率，2 標本問題），\n",
    "被覆確率，片側信頼限界"
   ]
  },
  {
   "cell_type": "markdown",
   "metadata": {},
   "source": []
  },
  {
   "cell_type": "markdown",
   "metadata": {},
   "source": [
    "# 4. 統計的推測（検定）"
   ]
  },
  {
   "cell_type": "markdown",
   "metadata": {},
   "source": [
    "## 4.1. 検定の基礎\n",
    "仮説，検定統計量，P 値，棄却域，第一種の過誤，第二種の過誤，検出\n",
    "力（検定力），検出力曲線，サンプルサイズの決定，多重比較"
   ]
  },
  {
   "cell_type": "markdown",
   "metadata": {},
   "source": []
  },
  {
   "cell_type": "markdown",
   "metadata": {},
   "source": [
    "## 4.2. 検定法の導出\n",
    "ネイマン・ピアソンの基本定理，尤度比検定，ワルド型検定，スコア\n",
    "検定，正確検定"
   ]
  },
  {
   "cell_type": "markdown",
   "metadata": {},
   "source": []
  },
  {
   "cell_type": "markdown",
   "metadata": {},
   "source": [
    "## 4.3. 正規分布に関する検定\n",
    "母平均，母分散に関する検定，2 標本問題に関する検定，母相関係数に\n",
    "関する検定"
   ]
  },
  {
   "cell_type": "markdown",
   "metadata": {},
   "source": []
  },
  {
   "cell_type": "markdown",
   "metadata": {},
   "source": [
    "## 4.4. 一般の分布に関する検定法\n",
    "二項分布，ポアソン分布など基本的な分布に関する検定，適合度検定"
   ]
  },
  {
   "cell_type": "markdown",
   "metadata": {},
   "source": []
  },
  {
   "cell_type": "markdown",
   "metadata": {},
   "source": [
    "## 4.5. ノンパラメトリック法\n",
    "ウィルコクソン検定，並べ替え検定，符号付き順位検定，クラスカル・\n",
    "ウォリス検定，順位相関係数"
   ]
  },
  {
   "cell_type": "markdown",
   "metadata": {},
   "source": []
  },
  {
   "cell_type": "markdown",
   "metadata": {},
   "source": [
    "# 5. マルコフ連鎖と確率過程の基礎"
   ]
  },
  {
   "cell_type": "markdown",
   "metadata": {},
   "source": [
    "## 5.1. マルコフ連鎖\n",
    "推移確率，既約性，再帰性，定常分布"
   ]
  },
  {
   "cell_type": "markdown",
   "metadata": {},
   "source": []
  },
  {
   "cell_type": "markdown",
   "metadata": {},
   "source": [
    "## 5.2. 確率過程の基礎\n",
    "ランダムウォーク，ポアソン過程，ブラウン運動"
   ]
  },
  {
   "cell_type": "markdown",
   "metadata": {},
   "source": []
  },
  {
   "cell_type": "markdown",
   "metadata": {},
   "source": [
    "# 6. 回帰分析"
   ]
  },
  {
   "cell_type": "markdown",
   "metadata": {},
   "source": [
    "## 6.1. 重回帰分析\n",
    "重回帰モデル，変数選択，残差分析，一般化最小二乗推定，多重共線\n",
    "性，L₁正則化法"
   ]
  },
  {
   "cell_type": "markdown",
   "metadata": {},
   "source": []
  },
  {
   "cell_type": "markdown",
   "metadata": {},
   "source": [
    "## 6.2. 回帰診断法\n",
    "系列相関，DW 比，はずれ値，leverage，Q-Q プロット"
   ]
  },
  {
   "cell_type": "markdown",
   "metadata": {},
   "source": []
  },
  {
   "cell_type": "markdown",
   "metadata": {},
   "source": [
    "## 6.3. 質的回帰\n",
    "ロジスティック回帰，プロビット分析"
   ]
  },
  {
   "cell_type": "markdown",
   "metadata": {},
   "source": []
  },
  {
   "cell_type": "markdown",
   "metadata": {},
   "source": [
    "## 6.4. その他\n",
    "一般化線形モデル，打ち切りのある場合，比例ハザード"
   ]
  },
  {
   "cell_type": "markdown",
   "metadata": {},
   "source": []
  },
  {
   "cell_type": "markdown",
   "metadata": {},
   "source": [
    "# 7. 分散分析と実験計画法\n",
    "一元配置，二元配置，分散分析表，交互作用，ブロック化，乱塊法，\n",
    "一部実施要因計画，直交配列，ブロック計画"
   ]
  },
  {
   "cell_type": "markdown",
   "metadata": {},
   "source": []
  },
  {
   "cell_type": "markdown",
   "metadata": {},
   "source": [
    "# 8. 標本調査法\n",
    "有限母集団，有限修正，各種の標本抽出法"
   ]
  },
  {
   "cell_type": "markdown",
   "metadata": {},
   "source": []
  },
  {
   "cell_type": "markdown",
   "metadata": {},
   "source": [
    "# 9. 多変量解析"
   ]
  },
  {
   "cell_type": "markdown",
   "metadata": {},
   "source": [
    "## 9.1. 主成分分析\n",
    "主成分スコア，主成分負荷量，寄与率，累積寄与率"
   ]
  },
  {
   "cell_type": "markdown",
   "metadata": {},
   "source": []
  },
  {
   "cell_type": "markdown",
   "metadata": {},
   "source": [
    "## 9.2. 判別分析\n",
    "フィッシャー線形判別， 2 次判別，SVM，正準判別"
   ]
  },
  {
   "cell_type": "markdown",
   "metadata": {},
   "source": []
  },
  {
   "cell_type": "markdown",
   "metadata": {},
   "source": [
    "## 9.3. クラスター分析\n",
    "階層型クラスター分析・デンドログラム，k-means 法，距離行列"
   ]
  },
  {
   "cell_type": "markdown",
   "metadata": {},
   "source": []
  },
  {
   "cell_type": "markdown",
   "metadata": {},
   "source": [
    "## 9.4. 共分散構造分析と因子分析\n",
    "パス解析，因果図，潜在変数，因子の回転"
   ]
  },
  {
   "cell_type": "markdown",
   "metadata": {},
   "source": []
  },
  {
   "cell_type": "markdown",
   "metadata": {},
   "source": [
    "## 9.5. その他の多変量解析手法\n",
    "多次元尺度法，正準相関，対応分析，数量化法"
   ]
  },
  {
   "cell_type": "markdown",
   "metadata": {},
   "source": []
  },
  {
   "cell_type": "markdown",
   "metadata": {},
   "source": [
    "# 10. 時系列解析\n",
    "自己相関，偏自己相関，ペリオドグラム，ARIMA モデル，定常性，階差，\n",
    "状態空間モデル"
   ]
  },
  {
   "cell_type": "markdown",
   "metadata": {},
   "source": []
  },
  {
   "cell_type": "markdown",
   "metadata": {},
   "source": [
    "# 11. 分割表"
   ]
  },
  {
   "cell_type": "markdown",
   "metadata": {},
   "source": [
    "## 11.1 分割表の解析\n",
    "オッズ比，連関係数，ファイ係数，残差分析"
   ]
  },
  {
   "cell_type": "markdown",
   "metadata": {},
   "source": []
  },
  {
   "cell_type": "markdown",
   "metadata": {},
   "source": [
    "## 11.2. 分割表のモデル\n",
    "対数線形モデル，階層モデル，条件つき独立性，グラフィカルモデル"
   ]
  },
  {
   "cell_type": "markdown",
   "metadata": {},
   "source": []
  },
  {
   "cell_type": "markdown",
   "metadata": {},
   "source": [
    "# 12. 欠損値\n",
    "欠測メカニズム，EM アルゴリズム"
   ]
  },
  {
   "cell_type": "markdown",
   "metadata": {},
   "source": []
  },
  {
   "cell_type": "markdown",
   "metadata": {},
   "source": [
    "# 13. モデル選択\n",
    "情報量規準，AIC，cross validation"
   ]
  },
  {
   "cell_type": "markdown",
   "metadata": {},
   "source": []
  },
  {
   "cell_type": "markdown",
   "metadata": {},
   "source": [
    "# 14. ベイズ法\n",
    "事前分布，事後分布，階層ベイズモデル，ギブスサンプリング，\n",
    "Metropolis-Hastings 法"
   ]
  },
  {
   "cell_type": "markdown",
   "metadata": {},
   "source": []
  },
  {
   "cell_type": "markdown",
   "metadata": {},
   "source": [
    "# 15. シミュレーション, 計算多用手法\n",
    "ジャックナイフ，ブートストラップ，乱数，棄却法，モンテカルロ法，\n",
    "マルコフ連鎖モンテカルロ(MCMC)法"
   ]
  },
  {
   "cell_type": "markdown",
   "metadata": {},
   "source": []
  },
  {
   "cell_type": "markdown",
   "metadata": {},
   "source": []
  },
  {
   "cell_type": "markdown",
   "metadata": {},
   "source": []
  },
  {
   "cell_type": "markdown",
   "metadata": {},
   "source": []
  },
  {
   "cell_type": "markdown",
   "metadata": {},
   "source": []
  }
 ],
 "metadata": {
  "kernelspec": {
   "display_name": "Python 3",
   "language": "python",
   "name": "python3"
  },
  "language_info": {
   "codemirror_mode": {
    "name": "ipython",
    "version": 3
   },
   "file_extension": ".py",
   "mimetype": "text/x-python",
   "name": "python",
   "nbconvert_exporter": "python",
   "pygments_lexer": "ipython3",
   "version": "3.6.5"
  }
 },
 "nbformat": 4,
 "nbformat_minor": 2
}
